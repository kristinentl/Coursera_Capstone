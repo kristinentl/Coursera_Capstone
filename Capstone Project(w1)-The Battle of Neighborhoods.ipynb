{
    "cells": [
        {
            "metadata": {
                "collapsed": true
            },
            "cell_type": "markdown",
            "source": "<H1>Capstone Project (W1) - The Battle of Neighborhoods</H1>"
        },
        {
            "metadata": {},
            "cell_type": "markdown",
            "source": "<h2>Introduction & Business Problem - New York City,USA </h2>"
        },
        {
            "metadata": {},
            "cell_type": "markdown",
            "source": "<p>A Visual Approach to determine Strategic Locations to put the Surgery Masks and Hand Sanitiser vendor machine distribution for daily hygiene maintenance based on population density of New York City to measure \u201cnew normal\u201d readiness.</p>\n"
        },
        {
            "metadata": {},
            "cell_type": "markdown",
            "source": "<h3>1) Problem & Discussion of the Background:</h3>"
        },
        {
            "metadata": {},
            "cell_type": "markdown",
            "source": "<p>Since the beginning of 2020, New York and many other cities around the world have been under attack by \u2018Covid-19\u2019. The City of New York as the most populous city in the United States, the Intensive human activities are inevitable. Although the epidemic has been controlled, people's health awareness needs to be strengthened. For example, wear a mask anytime and use hand sanitiser before meals.</p>"
        },
        {
            "metadata": {},
            "cell_type": "markdown",
            "source": "<h3>2) Data:</h3>"
        },
        {
            "metadata": {},
            "cell_type": "markdown",
            "source": "<p>We will be using the below datasets for analysing Newyork city.</p>"
        },
        {
            "metadata": {},
            "cell_type": "markdown",
            "source": "<h4> Data 1 : Neighborhood - total of 5 boroughs and 306 neighborhoods.</h4>"
        },
        {
            "metadata": {},
            "cell_type": "markdown",
            "source": "<p>In order to segment and explore the neighbourhoods, we will essentially need a dataset that contains the 5 boroughs and the neighbourhoods that exist in each borough as well as the the latitude and longitude coordinates of each neighbourhood.</p>"
        },
        {
            "metadata": {},
            "cell_type": "markdown",
            "source": "[2014 New York City Neighborhood Names](https://geo.nyu.edu/catalog/nyu_2451_34572)"
        },
        {
            "metadata": {},
            "cell_type": "markdown",
            "source": "<h4> Data 2 : Wikipedia </h4>"
        },
        {
            "metadata": {},
            "cell_type": "markdown",
            "source": "<p>In order to find out the most densely populated neighborhoods in New York City.</p>"
        },
        {
            "metadata": {},
            "cell_type": "markdown",
            "source": "[New York Population](https://en.wikipedia.org/wiki/New_York_City) <br>"
        },
        {
            "metadata": {},
            "cell_type": "markdown",
            "source": "<h4> Data 3 : Foursquare API </h4>"
        },
        {
            "metadata": {},
            "cell_type": "markdown",
            "source": "<p>New York city geographical coordinates data will be utilised as input for the Foursquare API, that will be leveraged to provision venues information for each neighbourhood.<br>\nWe will use the Foursquare API to explore neighbourhoods in New York City.</p>"
        },
        {
            "metadata": {},
            "cell_type": "markdown",
            "source": "<h3>The following data sources are needed to extract/generate the required information:</h3>\n<p>\n1.The distribution of vendor machine based on the population in the New York City Neighborhoods.<br>\n2.The distribution of vendor machine based on 5 districts with the most densely populated populations.<br>\n3.The distribution of vendor machine based on 5 districts with the most densely populated restaurants.<br></p>"
        },
        {
            "metadata": {},
            "cell_type": "code",
            "source": "",
            "execution_count": null,
            "outputs": []
        }
    ],
    "metadata": {
        "kernelspec": {
            "name": "python3",
            "display_name": "Python 3.7",
            "language": "python"
        },
        "language_info": {
            "name": "python",
            "version": "3.7.10",
            "mimetype": "text/x-python",
            "codemirror_mode": {
                "name": "ipython",
                "version": 3
            },
            "pygments_lexer": "ipython3",
            "nbconvert_exporter": "python",
            "file_extension": ".py"
        }
    },
    "nbformat": 4,
    "nbformat_minor": 1
}